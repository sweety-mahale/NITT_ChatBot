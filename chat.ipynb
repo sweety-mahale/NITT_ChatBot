{
 "cells": [
  {
   "cell_type": "code",
   "execution_count": 2,
   "metadata": {},
   "outputs": [
    {
     "name": "stderr",
     "output_type": "stream",
     "text": [
      "USER_AGENT environment variable not set, consider setting it to identify your requests.\n"
     ]
    }
   ],
   "source": [
    "import os\n",
    "import json\n",
    "from langchain.text_splitter import RecursiveCharacterTextSplitter\n",
    "from langchain.document_loaders import PyPDFLoader, DirectoryLoader, WebBaseLoader\n",
    "from langchain.embeddings import HuggingFaceEmbeddings\n",
    "from langchain.vectorstores import Chroma\n",
    "from langchain.chains import RetrievalQA, LLMChain, StuffDocumentsChain\n",
    "from langchain_groq import ChatGroq\n",
    "from langchain_core.prompts import PromptTemplate\n",
    "from langchain.schema import Document"
   ]
  },
  {
   "cell_type": "code",
   "execution_count": 3,
   "metadata": {},
   "outputs": [],
   "source": [
    "pdf_loader = DirectoryLoader(r\"C:\\Major_Project\\NITT_ChatBot\\data\", glob=\"*.pdf\", loader_cls=PyPDFLoader)\n",
    "pdf_docs = pdf_loader.load()"
   ]
  },
  {
   "cell_type": "code",
   "execution_count": 4,
   "metadata": {},
   "outputs": [],
   "source": [
    "web_loader = WebBaseLoader([\"https://www.nitt.edu/\"])\n",
    "web_docs = web_loader.load()"
   ]
  },
  {
   "cell_type": "code",
   "execution_count": 5,
   "metadata": {},
   "outputs": [],
   "source": [
    "text_splitter = RecursiveCharacterTextSplitter(chunk_size=500, chunk_overlap=100)\n",
    "pdf_chunks = text_splitter.split_documents(pdf_docs)\n",
    "web_chunks = text_splitter.split_documents(web_docs)\n",
    "all_chunks = pdf_chunks + web_chunks"
   ]
  },
  {
   "cell_type": "code",
   "execution_count": 6,
   "metadata": {},
   "outputs": [],
   "source": [
    "with open(r\"C:\\Major_Project\\NITT_ChatBot\\data\\FAQs.json\", \"r\") as file:\n",
    "    faqs = json.load(file)\n",
    "\n",
    "# Convert FAQs into Documents\n",
    "\n",
    "\n",
    "faq_docs = [\n",
    "    Document(\n",
    "        page_content=f\"Question: {faq['patterns'][0]}\\nAnswer: {faq['responses'][0]}\",\n",
    "        metadata={\"tag\": faq[\"tag\"]}\n",
    "    )\n",
    "    for faq in faqs\n",
    "]"
   ]
  },
  {
   "cell_type": "code",
   "execution_count": 7,
   "metadata": {},
   "outputs": [
    {
     "name": "stderr",
     "output_type": "stream",
     "text": [
      "C:\\Users\\Sweety\\AppData\\Local\\Temp\\ipykernel_41952\\3909999732.py:1: LangChainDeprecationWarning: The class `HuggingFaceEmbeddings` was deprecated in LangChain 0.2.2 and will be removed in 1.0. An updated version of the class exists in the :class:`~langchain-huggingface package and should be used instead. To use it run `pip install -U :class:`~langchain-huggingface` and import as `from :class:`~langchain_huggingface import HuggingFaceEmbeddings``.\n",
      "  embeddings = HuggingFaceEmbeddings(model_name=\"BAAI/bge-small-en\")\n",
      "c:\\ProgramData\\anaconda3\\envs\\llmapp\\lib\\site-packages\\tqdm\\auto.py:21: TqdmWarning: IProgress not found. Please update jupyter and ipywidgets. See https://ipywidgets.readthedocs.io/en/stable/user_install.html\n",
      "  from .autonotebook import tqdm as notebook_tqdm\n",
      "C:\\Users\\Sweety\\AppData\\Local\\Temp\\ipykernel_41952\\3909999732.py:5: LangChainDeprecationWarning: Since Chroma 0.4.x the manual persistence method is no longer supported as docs are automatically persisted.\n",
      "  vector_db.persist()\n"
     ]
    }
   ],
   "source": [
    "embeddings = HuggingFaceEmbeddings(model_name=\"BAAI/bge-small-en\")\n",
    "\n",
    "# Store PDFs & Website Data in ChromaDB\n",
    "vector_db = Chroma.from_documents(all_chunks, embeddings, persist_directory=\"./chroma_db\")\n",
    "vector_db.persist()\n",
    "\n",
    "# Store FAQs in ChromaDB\n",
    "faq_vector_db = Chroma.from_documents(faq_docs, embeddings, persist_directory=\"./faq_db\")\n",
    "faq_vector_db.persist()\n",
    "\n",
    "# Create Retrievers\n",
    "retriever = vector_db.as_retriever(search_type=\"similarity\", search_kwargs={\"k\": 5})\n",
    "faq_retriever = faq_vector_db.as_retriever(search_type=\"similarity\", search_kwargs={\"k\": 3})"
   ]
  },
  {
   "cell_type": "code",
   "execution_count": 8,
   "metadata": {},
   "outputs": [
    {
     "name": "stderr",
     "output_type": "stream",
     "text": [
      "C:\\Users\\Sweety\\AppData\\Local\\Temp\\ipykernel_41952\\4252386133.py:21: LangChainDeprecationWarning: The class `LLMChain` was deprecated in LangChain 0.1.17 and will be removed in 1.0. Use :meth:`~RunnableSequence, e.g., `prompt | llm`` instead.\n",
      "  llm_chain = LLMChain(llm=llm, prompt=prompt_template)\n"
     ]
    }
   ],
   "source": [
    "os.environ[\"GROQ_API_KEY\"] = \"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\"\n",
    "llm = ChatGroq(temperature=0.4, max_tokens=500, streaming=True)\n",
    "\n",
    "# Define Prompt for Structured Responses\n",
    "prompt_template = PromptTemplate.from_template(\"\"\"\n",
    "You are a helpful AI assistant for NIT Trichy. Answer the user's question using the most relevant information from FAQs and retrieved documents.\n",
    "\n",
    "### FAQs Context:\n",
    "{faq_context}\n",
    "\n",
    "### Retrieved Documents:\n",
    "{document_context}\n",
    "\n",
    "### User Question:\n",
    "{question}\n",
    "\n",
    "### Answer:\n",
    "\"\"\")\n",
    "\n",
    "\n",
    "llm_chain = LLMChain(llm=llm, prompt=prompt_template)"
   ]
  },
  {
   "cell_type": "code",
   "execution_count": 9,
   "metadata": {},
   "outputs": [],
   "source": [
    "def retrieve_faq(user_question):\n",
    "    \"\"\"Retrieve the most relevant FAQ based on similarity search.\"\"\"\n",
    "    similar_faqs = faq_retriever.get_relevant_documents(user_question)\n",
    "    if similar_faqs:\n",
    "        return similar_faqs[0].page_content  # Retrieve closest FAQ\n",
    "    return \"No relevant FAQ found\"  # Default if no FAQ matches\n",
    "\n",
    "def chatbot_response(user_question):\n",
    "    \"\"\"Integrate FAQs + document retrieval + LLM for structured responses.\"\"\"\n",
    "    retrieved_faq = retrieve_faq(user_question)\n",
    "    retrieved_docs = retriever.get_relevant_documents(user_question)\n",
    "\n",
    "    structured_prompt = prompt_template.format(\n",
    "        faq_context=retrieved_faq,\n",
    "        document_context=\"\\n\\n\".join([doc.page_content for doc in retrieved_docs]),\n",
    "        question=user_question\n",
    "    )\n",
    "\n",
    "    response = llm_chain.invoke({\n",
    "    \"faq_context\": retrieved_faq if retrieved_faq else \"No relevant FAQ found.\",\n",
    "    \"document_context\": \"\\n\\n\".join([doc.page_content for doc in retrieved_docs]) if retrieved_docs else \"No relevant document found.\",\n",
    "    \"question\": user_question\n",
    "})\n",
    "\n",
    "    return response"
   ]
  },
  {
   "cell_type": "code",
   "execution_count": 10,
   "metadata": {},
   "outputs": [
    {
     "name": "stderr",
     "output_type": "stream",
     "text": [
      "C:\\Users\\Sweety\\AppData\\Local\\Temp\\ipykernel_41952\\312472998.py:3: LangChainDeprecationWarning: The method `BaseRetriever.get_relevant_documents` was deprecated in langchain-core 0.1.46 and will be removed in 1.0. Use :meth:`~invoke` instead.\n",
      "  similar_faqs = faq_retriever.get_relevant_documents(user_question)\n"
     ]
    },
    {
     "name": "stdout",
     "output_type": "stream",
     "text": [
      "You: tell me about yourself\n",
      "Chatbot: I am an AI assistant created by Sweety Mahale for her final year college project. I am here to help answer questions and provide information relevant to NIT Trichy.\n",
      "You: tell me about yourself\n",
      "Chatbot: I am an AI assistant created by Sweety Mahale for her final year college project. I am here to help answer questions and provide information relevant to NIT Trichy.\n",
      "You: tell me about NIT Trichy\n",
      "Chatbot: National Institute of Technology (NIT) Trichy is located in the Tanjore Main Road, in National Highway 83, between BHEL and Thuvakudi, Tiruchirappalli. It is a public engineering institution of national importance and one of the 31 NITs in India. NIT Trichy offers undergraduate and postgraduate programs in various fields of engineering and technology, including Metallurgical and Materials Engineering, Electrical and Electronics Engineering, Mechanical Engineering, and Civil Engineering, among others. The institute also provides opportunities for students to take open elective courses in areas such as Direct Energy Conversion, Environmental Engineering and Pollution Control, Energy Storage Systems, Advanced Fuel Technologies, Hydrogen Energy, Professional Skill Development, Computational Fluid Dynamics, and Foundation for Energy Engineering. NIT Trichy has a strong focus on research and development, with state-of-the-art facilities and laboratories for conducting experiments and testing materials. The institute has a placement cell that facilitates campus placements for students and collaborates with industry partners for research and development projects. For more information, you can visit the NIT Trichy website or contact the institute directly.\n",
      "You: How can i contact in college?\n",
      "Chatbot: You can contact the college at +91-431-2500133. This information is obtained from the FAQs section.\n",
      "You: M.Sc. Computer Science Syllabus Semester 1\n",
      "Chatbot: The syllabus for M.Sc. Computer Science in Semester 1 includes the following courses:\n",
      "\n",
      "1. Mathematical Foundations of Computer Sciences (CAS711) - 4 credits\n",
      "2. Computer Organization and Architecture (CAS713) - 4 credits\n",
      "3. Data Structures and Algorithms (CAS715) - 3 credits\n",
      "4. Database Management Systems (CAS717) - 3 credits\n",
      "5. Operating Systems Fundamentals (CAS719) - 4 credits\n",
      "6. Elective I (CAS7AX) - 4 credits\n",
      "\n",
      "Note: The credit system may vary based on the specific requirements of the program.\n",
      "You: what are events conducted in NITT\n",
      "Chatbot: NIT Trichy hosts a variety of events throughout the year, which can be technical or cultural and are organized at both inter-departmental and inter-college levels. Some of the notable events include Convocation Day, Alumni Day, Pragyan (Technical Festival), Festember (Cultural Festival), NITTFEST (Inter Departmental Cultural Festival), Sports Day, and various Student Technical Symposiums.\n",
      "\n",
      "In addition to these, there are workshops and courses conducted by different departments, such as:\n",
      "1. Workshop on Empowering Women in Business with Practical Skills (Organized by Department of CSE from March 17-21, 2025)\n",
      "2. Workshop on Electrical Vehicles & Energy Storage Technologies (Organized by Department of Energy & Environment from March 24-28, 2025)\n",
      "3. GIAN Course on Organic Electronic Materials and Devices (Organized by Department of Chemistry from April 21-25, 2025)\n",
      "\n",
      "For more information about the events, you can visit the official NITT website at https://www.nitt.edu/home/students/events/. Additionally, you can check out Skill Hub courses and applications at https://skillhub.nitt.edu/.\n",
      "\n",
      "For any emergencies or concerns, you can contact NIT-T Ambulance at 9486001162, NIT-T Hospital at 91-431-2503860, NIT-T Security Office at 9486001168 / 91-431-2503900, and Anti-Ragging Helpline at 9486001180 or email antiragging@nitt.edu. There is also an Internal Complaints committee to address Sexual Harassment of Women at Workplace (Prevention, Prohibition and Redressal).\n",
      "Chatbot: Goodbye!\n"
     ]
    }
   ],
   "source": [
    "\n",
    "while True:\n",
    "    user_input = input(\"You: \")\n",
    "    if user_input.lower() in [\"exit\", \"quit\", \"bye\"]:\n",
    "        print(\"Chatbot: Goodbye!\")\n",
    "        break\n",
    "    bot_response = chatbot_response(user_input)\n",
    "    print(\"You:\",user_input)\n",
    "    print(\"Chatbot:\", bot_response[\"text\"])"
   ]
  },
  {
   "cell_type": "code",
   "execution_count": 11,
   "metadata": {},
   "outputs": [
    {
     "name": "stdout",
     "output_type": "stream",
     "text": [
      "You: tell me some recent acivement of nit trichy\n",
      "Chatbot: Sure, here are some recent achievements of NIT Trichy:\n",
      "\n",
      "1. NIT Trichy has been ranked 11th among the top engineering institutions in India by the National Institutional Ranking Framework (NIRF) 2021.\n",
      "\n",
      "2. The institute has been awarded the 'Star Status' by the Department of Science and Technology (DST) under the FIST (Fund for Improvement of S&T Infrastructure) program.\n",
      "\n",
      "3. NIT Trichy has been selected as a mentor institution under the MHRD's (Ministry of Human Resource Development) \"NIT excellence\" initiative.\n",
      "\n",
      "4. The institute has been granted an autonomous status by the Ministry of Human Resource Development (MHRD) for a period of 10 years.\n",
      "\n",
      "5. NIT Trichy has been recognized as an Institution of Eminence (IoE) by the University Grants Commission (UGC).\n",
      "\n",
      "6. The institute has been awarded the status of \"Centre of Relevance and Excellence\" (CORE) in the area of \"Energy\" by the MHRD.\n",
      "\n",
      "7. NIT Trichy has been selected as a \"Smart Campus\" by the Ministry of Electronics and Information Technology (MeitY) under the \"National Mission on Interdisciplinary Cyber-Physical Systems (NM-ICPS)\".\n",
      "\n",
      "8. The institute has been granted the status of \"Institute of National Importance\" by the Government of India.\n",
      "\n",
      "9. NIT Trichy has been ranked 4th among the top engineering colleges in India by Outlook India 2021.\n",
      "\n",
      "10. The institute has been ranked 12th among the top engineering colleges in India by The Week 2021.\n",
      "\n",
      "I hope this information is helpful! Let me know if you have any other questions.\n",
      "Chatbot: Goodbye!\n"
     ]
    }
   ],
   "source": [
    "while True:\n",
    "    user_input = input(\"You: \")\n",
    "    if user_input.lower() in [\"exit\", \"quit\", \"bye\"]:\n",
    "        print(\"Chatbot: Goodbye!\")\n",
    "        break\n",
    "    bot_response = chatbot_response(user_input)\n",
    "    print(\"You:\",user_input)\n",
    "    print(\"Chatbot:\", bot_response[\"text\"])\n",
    "    "
   ]
  },
  {
   "cell_type": "code",
   "execution_count": null,
   "metadata": {},
   "outputs": [],
   "source": []
  }
 ],
 "metadata": {
  "kernelspec": {
   "display_name": "llmapp",
   "language": "python",
   "name": "python3"
  },
  "language_info": {
   "codemirror_mode": {
    "name": "ipython",
    "version": 3
   },
   "file_extension": ".py",
   "mimetype": "text/x-python",
   "name": "python",
   "nbconvert_exporter": "python",
   "pygments_lexer": "ipython3",
   "version": "3.10.16"
  }
 },
 "nbformat": 4,
 "nbformat_minor": 2
}
