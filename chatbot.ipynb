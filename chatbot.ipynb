{
 "cells": [
  {
   "cell_type": "code",
   "execution_count": 1,
   "metadata": {},
   "outputs": [
    {
     "name": "stderr",
     "output_type": "stream",
     "text": [
      "USER_AGENT environment variable not set, consider setting it to identify your requests.\n"
     ]
    }
   ],
   "source": [
    "import os\n",
    "import json\n",
    "from langchain.text_splitter import RecursiveCharacterTextSplitter\n",
    "from langchain.document_loaders import PyPDFLoader\n",
    "from langchain.embeddings.openai import OpenAIEmbeddings\n",
    "from langchain.vectorstores import Chroma\n",
    "from langchain.chains import RetrievalQA\n",
    "from langchain.document_loaders import WebBaseLoader\n",
    "from langchain.document_loaders import DirectoryLoader\n",
    "\n"
   ]
  },
  {
   "cell_type": "code",
   "execution_count": 2,
   "metadata": {},
   "outputs": [],
   "source": [
    "pdf_loader = DirectoryLoader(r\"C:\\Major_Project\\NITT_ChatBot\\data\", glob=\"*.pdf\", loader_cls=PyPDFLoader)\n",
    "pdf_docs = pdf_loader.load()"
   ]
  },
  {
   "cell_type": "code",
   "execution_count": 3,
   "metadata": {},
   "outputs": [],
   "source": [
    "web_loader = WebBaseLoader([\"https://www.nitt.edu/\"])\n",
    "web_docs = web_loader.load()\n"
   ]
  },
  {
   "cell_type": "code",
   "execution_count": 4,
   "metadata": {},
   "outputs": [],
   "source": [
    "text_splitter = RecursiveCharacterTextSplitter(chunk_size=500, chunk_overlap=100)\n",
    "\n",
    "pdf_chunks = text_splitter.split_documents(pdf_docs)\n",
    "web_chunks = text_splitter.split_documents(web_docs)\n",
    "\n",
    "all_chunks = pdf_chunks + web_chunks"
   ]
  },
  {
   "cell_type": "code",
   "execution_count": 5,
   "metadata": {},
   "outputs": [
    {
     "name": "stderr",
     "output_type": "stream",
     "text": [
      "C:\\Users\\Sweety\\AppData\\Local\\Temp\\ipykernel_12104\\2383269725.py:5: LangChainDeprecationWarning: The class `HuggingFaceEmbeddings` was deprecated in LangChain 0.2.2 and will be removed in 1.0. An updated version of the class exists in the :class:`~langchain-huggingface package and should be used instead. To use it run `pip install -U :class:`~langchain-huggingface` and import as `from :class:`~langchain_huggingface import HuggingFaceEmbeddings``.\n",
      "  embeddings = HuggingFaceEmbeddings(model_name=\"BAAI/bge-small-en\")\n",
      "c:\\ProgramData\\anaconda3\\envs\\llmapp\\lib\\site-packages\\tqdm\\auto.py:21: TqdmWarning: IProgress not found. Please update jupyter and ipywidgets. See https://ipywidgets.readthedocs.io/en/stable/user_install.html\n",
      "  from .autonotebook import tqdm as notebook_tqdm\n",
      "C:\\Users\\Sweety\\AppData\\Local\\Temp\\ipykernel_12104\\2383269725.py:10: LangChainDeprecationWarning: Since Chroma 0.4.x the manual persistence method is no longer supported as docs are automatically persisted.\n",
      "  vector_db.persist()  # Save embeddings\n"
     ]
    }
   ],
   "source": [
    "from langchain.embeddings import HuggingFaceEmbeddings\n",
    "from langchain.vectorstores import Chroma\n",
    "\n",
    "# Load free embedding model from Hugging Face\n",
    "embeddings = HuggingFaceEmbeddings(model_name=\"BAAI/bge-small-en\")\n",
    "\n",
    "# Create vector DB using Chroma\n",
    "vector_db = Chroma.from_documents(all_chunks, embeddings, persist_directory=\"./chroma_db\")\n",
    "\n",
    "vector_db.persist()  # Save embeddings\n",
    "retriever = vector_db.as_retriever(search_type=\"similarity\",search_kwargs={\"k\": 5})  # Convert to retriever"
   ]
  },
  {
   "cell_type": "code",
   "execution_count": 6,
   "metadata": {},
   "outputs": [
    {
     "name": "stderr",
     "output_type": "stream",
     "text": [
      "C:\\Users\\Sweety\\AppData\\Local\\Temp\\ipykernel_12104\\84315260.py:16: LangChainDeprecationWarning: The class `LLMChain` was deprecated in LangChain 0.1.17 and will be removed in 1.0. Use :meth:`~RunnableSequence, e.g., `prompt | llm`` instead.\n",
      "  llm_chain = LLMChain(llm=llm, prompt=prompt_template)\n",
      "C:\\Users\\Sweety\\AppData\\Local\\Temp\\ipykernel_12104\\84315260.py:27: LangChainDeprecationWarning: This class is deprecated. Use the `create_stuff_documents_chain` constructor instead. See migration guide here: https://python.langchain.com/docs/versions/migrating_chains/stuff_docs_chain/\n",
      "  document_chain = StuffDocumentsChain(\n"
     ]
    }
   ],
   "source": [
    "\n",
    "from langchain.chains import RetrievalQA\n",
    "from langchain_core.prompts import PromptTemplate\n",
    "from langchain.chains import LLMChain\n",
    "from langchain_groq import ChatGroq\n",
    "from langchain.chains import RetrievalQA, StuffDocumentsChain\n",
    "from langchain.schema.runnable import RunnablePassthrough\n",
    "\n",
    "# Define LLM\n",
    "os.environ[\"GROQ_API_KEY\"] = \"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\"\n",
    "llm = ChatGroq(temperature=0.4, max_tokens=500, streaming=True)\n",
    "\n",
    "prompt_template = PromptTemplate.from_template(\n",
    "    \"Use the following retrieved context to answer the question: {context} \\n\\nQuestion: {question}\"\n",
    ")\n",
    "\n",
    "llm_chain = LLMChain(llm=llm, prompt=prompt_template)\n",
    "\n",
    "document_prompt = PromptTemplate(\n",
    "    input_variables=[\"context\"],\n",
    "    template=\"{context}\"  \n",
    ")\n",
    "\n",
    "\n",
    "def format_docs(docs):\n",
    "    return \"\\n\\n\".join([doc.page_content for doc in docs])  \n",
    "\n",
    "document_chain = StuffDocumentsChain(\n",
    "    llm_chain=llm_chain, \n",
    "    document_prompt=document_prompt,  \n",
    "    document_variable_name=\"context\")\n",
    "\n",
    "qa_chain = RetrievalQA.from_chain_type(\n",
    "    llm=llm,\n",
    "    chain_type=\"stuff\",\n",
    "    retriever=retriever,\n",
    "    chain_type_kwargs={\"prompt\": prompt_template} \n",
    ")"
   ]
  },
  {
   "cell_type": "code",
   "execution_count": 7,
   "metadata": {},
   "outputs": [],
   "source": [
    "def chatbot_response(query):\n",
    "    response = qa_chain.run(query)\n",
    "    return response\n"
   ]
  },
  {
   "cell_type": "code",
   "execution_count": 9,
   "metadata": {},
   "outputs": [
    {
     "name": "stdout",
     "output_type": "stream",
     "text": [
      "\n",
      "Chatbot: Based on the provided context, the admission process for the M.Sc. Computer Science program in 2024-25 would be handled through the CCMN 2024 (Centralized Counseling for M.Sc./M.Sc.(Tech.) JAM/GATE). There is no specific information about additional requirements or steps for the M.Sc. Computer Science program, so it is assumed that the general admission process for PG programs applies.\n",
      "\n",
      "Chatbot: The retrieved context does not provide the fee structure specifically for the M.Sc. program. It includes the fee structure for the MA and MCA programs, as well as general fees such as computer fees, internet fees, library fees, etc. However, there is no mention of the M.Sc. program or its associated fees.\n",
      "\n",
      "Chatbot: Based on the provided context, the fee structure for the PG program is as follows:\n",
      "\n",
      "1. Computer Fee: 2650 - 2900\n",
      "2. Internet Fee: 1100 - 1200\n",
      "3. Library fee: 4950 - 5500\n",
      "4. Examination fee: 2650 - 2900\n",
      "5. Registration-Enrolment fee: 550 - 600\n",
      "6. Association and Cultural fee: 2650 - 2900\n",
      "7. Students Aid Fee: 500 - 550\n",
      "8. Sports Center: 1100 - 1200\n",
      "9. Medical and insurance fee: 1100 - 1200\n",
      "10. Festival Charges: 2300 - 2550\n",
      "11. Institute Industries Interaction (III) Activities and Guest Lectures(GL): 3300 - 3650\n",
      "\n",
      "The total annual fee for the PG program is between 22,850 and 25,150. There is also a one-time fee, but the amount is not specified in the context.\n",
      "\n",
      "Chatbot: Based on the provided context, the M.Sc. CS curriculum covers the following subjects:\n",
      "\n",
      "* Computer Science (subject code 25)\n",
      "* The scores listed for this subject are 26, 22, 14, 12, and 6.\n",
      "\n",
      "However, the context does not provide specific details about the topics covered in the Computer Science subject within the M.Sc. CS curriculum. Generally, a Master of Science in Computer Science program may cover topics such as algorithms, programming languages, software engineering, computer architecture, operating systems, databases, computer networks, artificial intelligence, and machine learning. It is best to refer to the specific curriculum or course catalog of the institution offering the M.Sc. CS program for detailed information.\n",
      "\n",
      "Chatbot: The M.Sc. Computer Science program at NIT Trichy consists of a total of 80 minimum credits, distributed over the duration of the program. The curriculum is divided into several components:\n",
      "\n",
      "1. Program Core (PC): 6 courses per year, totaling 42 credits.\n",
      "2. Program Elective (PE): 6 courses per year.\n",
      "3. Essential Laboratory Requirements (ELR): 3 courses per year, totaling 6 credits.\n",
      "4. Internship / Industrial: details not provided in the retrieved context.\n",
      "\n",
      "In the first semester, students take the following courses:\n",
      "\n",
      "1. CAS711 Mathematical Foundations of Computer Sciences (4 credits)\n",
      "2. CAS713 Computer Organization and Architecture (4 credits)\n",
      "3. CAS715 Data Structures and Algorithms (3 credits)\n",
      "\n",
      "The retrieved context does not provide complete information on the structure of the M.Sc. Computer Science program at NIT Trichy. However, it does give an overview of the curriculum components and the courses offered in the first semester.\n",
      "\n",
      "Chatbot: Based on the provided context, there is no explicit information about interdisciplinary courses available for M.Sc. students at the National Institute of Technology: Tiruchirappalli. However, it is always recommended to check the official website or contact the institution directly for the most accurate and up-to-date information.\n",
      "\n",
      "As for the project and thesis requirements for the M.Sc. program, the context does not provide specific details. Generally, M.Sc. programs include a project or thesis component, but the exact requirements may vary depending on the institution and the specific program. It is best to consult the official program guidelines or contact the department for detailed information on the project and thesis requirements for the M.Sc. in Computer Science program.\n",
      "\n",
      "Chatbot: Based on the provided context, the selection procedure for M.Sc. programs at NIT Trichy involves evaluating the candidate's performance in their undergraduate degree. The scores for Chemistry, Computer Science, Mathematics, and Physics are listed as 20, 19, 23, 18; 26, 22, 14, 12; 22, 19, 20, 15; and 20, 19, 20, 15 respectively. However, the specific method of calculating the selection score from these numbers is not provided. Additionally, there might be other components in the selection procedure, such as interviews or written tests, but those are not mentioned in the context. It is recommended to visit the official NIT Trichy website or contact the admission office for the most accurate and up-to-date information.\n"
     ]
    }
   ],
   "source": [
    "while True:\n",
    "    user_input = input(\"\\nAsk your college-related query (type 'exit' to quit): \")\n",
    "    if user_input.lower() in [\"exit\", \"quit\"]:\n",
    "        break\n",
    "    answer = chatbot_response(user_input)\n",
    "    print(\"\\nChatbot:\", answer)"
   ]
  },
  {
   "cell_type": "code",
   "execution_count": null,
   "metadata": {},
   "outputs": [],
   "source": []
  }
 ],
 "metadata": {
  "kernelspec": {
   "display_name": "llmapp",
   "language": "python",
   "name": "python3"
  },
  "language_info": {
   "codemirror_mode": {
    "name": "ipython",
    "version": 3
   },
   "file_extension": ".py",
   "mimetype": "text/x-python",
   "name": "python",
   "nbconvert_exporter": "python",
   "pygments_lexer": "ipython3",
   "version": "3.10.16"
  }
 },
 "nbformat": 4,
 "nbformat_minor": 2
}
